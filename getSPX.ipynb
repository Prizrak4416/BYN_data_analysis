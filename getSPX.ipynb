{
 "cells": [
  {
   "cell_type": "code",
   "execution_count": 8,
   "id": "5aa46064-509c-46d5-8ea6-c995de4f1f4f",
   "metadata": {},
   "outputs": [],
   "source": [
    "import requests\n",
    "import yfinance as yf"
   ]
  },
  {
   "cell_type": "markdown",
   "id": "83acf62d-f16a-4f81-a231-e2b76ebd919f",
   "metadata": {},
   "source": [
    "### Для alphavantage нужна подписка для больших днаннх https://www.alphavantage.co/premium/"
   ]
  },
  {
   "cell_type": "code",
   "execution_count": 10,
   "id": "e25bd4f4-ec4b-4fa8-81f5-7abbe1898b64",
   "metadata": {},
   "outputs": [
    {
     "name": "stdout",
     "output_type": "stream",
     "text": [
      "https://www.alphavantage.co/query?function=TIME_SERIES_DAILY_ADJUSTED&symbol=SPY&outputsize=full&datatype=csv&apikey=demo\n"
     ]
    }
   ],
   "source": [
    "API_KEY = \"demo\"\n",
    "url = (\n",
    "    f\"https://www.alphavantage.co/query?\"\n",
    "    f\"function=TIME_SERIES_DAILY_ADJUSTED&symbol=SPY&outputsize=full\"\n",
    "    f\"&datatype=csv&apikey={API_KEY}\"\n",
    ")\n",
    "print(url)"
   ]
  },
  {
   "cell_type": "code",
   "execution_count": 3,
   "id": "7181bb21-096c-4727-bea0-0c41f8df7b8b",
   "metadata": {},
   "outputs": [],
   "source": [
    "response = requests.get(url)"
   ]
  },
  {
   "cell_type": "code",
   "execution_count": 5,
   "id": "3f12dddd-b818-4662-a38d-2f2778fcbfd2",
   "metadata": {},
   "outputs": [],
   "source": [
    "with open(\"/home/volma/projects/BYN_data_analysis/data/spy_data.csv\", \"w\") as f:\n",
    "    f.write(response.text)"
   ]
  },
  {
   "cell_type": "markdown",
   "id": "dbaa7f29-08e2-4554-90e8-a701794f6932",
   "metadata": {},
   "source": [
    "### Загружаем с yahoo finance"
   ]
  },
  {
   "cell_type": "code",
   "execution_count": 16,
   "id": "701677cf-e6f2-419e-8a78-4283e22f711e",
   "metadata": {},
   "outputs": [
    {
     "name": "stderr",
     "output_type": "stream",
     "text": [
      "[*********************100%***********************]  1 of 1 completed\n"
     ]
    }
   ],
   "source": [
    "spx = yf.download(\"^GSPC\", start=\"1972-01-01\")"
   ]
  },
  {
   "cell_type": "code",
   "execution_count": 17,
   "id": "5ee2352f-7b8c-4743-a555-2132cefa577d",
   "metadata": {},
   "outputs": [
    {
     "name": "stdout",
     "output_type": "stream",
     "text": [
      "MultiIndex([( 'Close', '^GSPC'),\n",
      "            (  'High', '^GSPC'),\n",
      "            (   'Low', '^GSPC'),\n",
      "            (  'Open', '^GSPC'),\n",
      "            ('Volume', '^GSPC')],\n",
      "           names=['Price', 'Ticker'])\n"
     ]
    }
   ],
   "source": [
    "print(spx.columns)"
   ]
  },
  {
   "cell_type": "code",
   "execution_count": 18,
   "id": "72d7b240-c6ae-4413-a7d4-b5e434e896d9",
   "metadata": {},
   "outputs": [
    {
     "name": "stdout",
     "output_type": "stream",
     "text": [
      "Price            Close        High         Low  Open    Volume\n",
      "Ticker           ^GSPC       ^GSPC       ^GSPC ^GSPC     ^GSPC\n",
      "Date                                                          \n",
      "1972-01-03  101.669998  102.849998  101.190002   0.0  12570000\n",
      "1972-01-04  102.089996  102.589996  100.870003   0.0  15190000\n",
      "1972-01-05  103.059998  103.690002  101.900002   0.0  21350000\n",
      "1972-01-06  103.510002  104.199997  102.660004   0.0  21100000\n",
      "1972-01-07  103.470001  104.290001  102.379997   0.0  17140000\n"
     ]
    }
   ],
   "source": [
    "print(spx.head())"
   ]
  },
  {
   "cell_type": "code",
   "execution_count": 19,
   "id": "bcd348e7-911e-485c-9247-cb810a254c50",
   "metadata": {},
   "outputs": [],
   "source": [
    "# Сохранить только нужные столбцы: Open, High, Low, Close, Date\n",
    "spx[[\"Open\", \"High\", \"Low\", \"Close\", 'Volume']].to_csv(\"/home/volma/projects/BYN_data_analysis/data/spx_data_yahoo.csv\")"
   ]
  },
  {
   "cell_type": "code",
   "execution_count": 20,
   "id": "c88baaa0-f644-4375-abbd-9dd0ed3ed56a",
   "metadata": {},
   "outputs": [
    {
     "name": "stdout",
     "output_type": "stream",
     "text": [
      "Price             Close         High          Low         Open      Volume\n",
      "Ticker            ^GSPC        ^GSPC        ^GSPC        ^GSPC       ^GSPC\n",
      "Date                                                                      \n",
      "2025-04-04  5074.080078  5292.140137  5069.899902  5292.140137  8853500000\n",
      "2025-04-07  5062.250000  5246.569824  4835.040039  4953.790039  8691980000\n",
      "2025-04-08  4982.770020  5267.470215  4910.419922  5193.569824  7408140000\n",
      "2025-04-09  5456.899902  5481.339844  4948.430176  4965.279785  9489600000\n",
      "2025-04-10  5268.049805  5353.149902  5115.270020  5353.149902  6677140000\n"
     ]
    }
   ],
   "source": [
    "print(spx.tail())"
   ]
  },
  {
   "cell_type": "code",
   "execution_count": null,
   "id": "0925f862-8939-4c7b-b357-1aff93cfaea7",
   "metadata": {},
   "outputs": [],
   "source": []
  }
 ],
 "metadata": {
  "kernelspec": {
   "display_name": "Python 3 (ipykernel)",
   "language": "python",
   "name": "python3"
  },
  "language_info": {
   "codemirror_mode": {
    "name": "ipython",
    "version": 3
   },
   "file_extension": ".py",
   "mimetype": "text/x-python",
   "name": "python",
   "nbconvert_exporter": "python",
   "pygments_lexer": "ipython3",
   "version": "3.10.12"
  }
 },
 "nbformat": 4,
 "nbformat_minor": 5
}
